{
 "cells": [
  {
   "cell_type": "code",
   "execution_count": 26,
   "id": "53ec19fc",
   "metadata": {},
   "outputs": [],
   "source": [
    "import pandas as pd"
   ]
  },
  {
   "cell_type": "code",
   "execution_count": 3,
   "id": "89a67afc",
   "metadata": {},
   "outputs": [],
   "source": [
    "df = pd.read_csv('job_data.csv')"
   ]
  },
  {
   "cell_type": "code",
   "execution_count": 4,
   "id": "c4665535",
   "metadata": {},
   "outputs": [
    {
     "data": {
      "text/html": [
       "<div>\n",
       "<style scoped>\n",
       "    .dataframe tbody tr th:only-of-type {\n",
       "        vertical-align: middle;\n",
       "    }\n",
       "\n",
       "    .dataframe tbody tr th {\n",
       "        vertical-align: top;\n",
       "    }\n",
       "\n",
       "    .dataframe thead th {\n",
       "        text-align: right;\n",
       "    }\n",
       "</style>\n",
       "<table border=\"1\" class=\"dataframe\">\n",
       "  <thead>\n",
       "    <tr style=\"text-align: right;\">\n",
       "      <th></th>\n",
       "      <th>company</th>\n",
       "      <th>job_title</th>\n",
       "      <th>location</th>\n",
       "      <th>salary</th>\n",
       "      <th>company_size</th>\n",
       "      <th>company_founded</th>\n",
       "      <th>company_type</th>\n",
       "      <th>company_industry</th>\n",
       "      <th>company_sector</th>\n",
       "      <th>company_revenue</th>\n",
       "      <th>job_description</th>\n",
       "    </tr>\n",
       "  </thead>\n",
       "  <tbody>\n",
       "    <tr>\n",
       "      <th>0</th>\n",
       "      <td>Bluefin Resources4.0 ★</td>\n",
       "      <td>EMPO Reporting Analyst</td>\n",
       "      <td>Sydney</td>\n",
       "      <td>$120,000</td>\n",
       "      <td>51 to 200 Employees</td>\n",
       "      <td>--</td>\n",
       "      <td>Company - Private</td>\n",
       "      <td>--</td>\n",
       "      <td>--</td>\n",
       "      <td>Unknown / Non-Applicable</td>\n",
       "      <td>Bluefin Resources are seeking an experienced P...</td>\n",
       "    </tr>\n",
       "    <tr>\n",
       "      <th>1</th>\n",
       "      <td>Macquarie Group Limited4.0 ★</td>\n",
       "      <td>Junior Data Business Analyst | Commodities and...</td>\n",
       "      <td>Sydney</td>\n",
       "      <td>$108,167</td>\n",
       "      <td>10000+ Employees</td>\n",
       "      <td>1969</td>\n",
       "      <td>Company - Public</td>\n",
       "      <td>Investment &amp; Asset Management</td>\n",
       "      <td>Finance</td>\n",
       "      <td>$5 to $10 billion (USD)</td>\n",
       "      <td>We are a dynamic change team who works collabo...</td>\n",
       "    </tr>\n",
       "    <tr>\n",
       "      <th>2</th>\n",
       "      <td>ETM Group Holdings Pty Ltd</td>\n",
       "      <td>Business Analyst</td>\n",
       "      <td>Alexandria</td>\n",
       "      <td>$90,000</td>\n",
       "      <td>NaN</td>\n",
       "      <td>NaN</td>\n",
       "      <td>NaN</td>\n",
       "      <td>NaN</td>\n",
       "      <td>NaN</td>\n",
       "      <td>NaN</td>\n",
       "      <td>ETM Group Holdings is currently searching for ...</td>\n",
       "    </tr>\n",
       "    <tr>\n",
       "      <th>3</th>\n",
       "      <td>Nixil4.0 ★</td>\n",
       "      <td>Junior Data Analyst: Investment Data Managemen...</td>\n",
       "      <td>Sydney</td>\n",
       "      <td>$0</td>\n",
       "      <td>Unknown</td>\n",
       "      <td>--</td>\n",
       "      <td>Company - Private</td>\n",
       "      <td>--</td>\n",
       "      <td>--</td>\n",
       "      <td>Unknown / Non-Applicable</td>\n",
       "      <td>Work options: Hybrid Our client is seeking a d...</td>\n",
       "    </tr>\n",
       "    <tr>\n",
       "      <th>4</th>\n",
       "      <td>TPG Telecom4.0 ★</td>\n",
       "      <td>Data &amp; Reporting Analyst</td>\n",
       "      <td>North Sydney</td>\n",
       "      <td>$78,772</td>\n",
       "      <td>1001 to 5000 Employees</td>\n",
       "      <td>2020</td>\n",
       "      <td>Company - Public</td>\n",
       "      <td>Cable, Internet &amp; Telephone Providers</td>\n",
       "      <td>Telecommunications</td>\n",
       "      <td>$2 to $5 billion (USD)</td>\n",
       "      <td>Exciting time to join a top 100 ASX listed bus...</td>\n",
       "    </tr>\n",
       "  </tbody>\n",
       "</table>\n",
       "</div>"
      ],
      "text/plain": [
       "                        company  \\\n",
       "0        Bluefin Resources4.0 ★   \n",
       "1  Macquarie Group Limited4.0 ★   \n",
       "2    ETM Group Holdings Pty Ltd   \n",
       "3                    Nixil4.0 ★   \n",
       "4              TPG Telecom4.0 ★   \n",
       "\n",
       "                                           job_title      location    salary  \\\n",
       "0                             EMPO Reporting Analyst        Sydney  $120,000   \n",
       "1  Junior Data Business Analyst | Commodities and...        Sydney  $108,167   \n",
       "2                                   Business Analyst    Alexandria   $90,000   \n",
       "3  Junior Data Analyst: Investment Data Managemen...        Sydney        $0   \n",
       "4                           Data & Reporting Analyst  North Sydney   $78,772   \n",
       "\n",
       "             company_size company_founded       company_type  \\\n",
       "0     51 to 200 Employees              --  Company - Private   \n",
       "1        10000+ Employees            1969   Company - Public   \n",
       "2                     NaN             NaN                NaN   \n",
       "3                 Unknown              --  Company - Private   \n",
       "4  1001 to 5000 Employees            2020   Company - Public   \n",
       "\n",
       "                        company_industry      company_sector  \\\n",
       "0                                     --                  --   \n",
       "1          Investment & Asset Management             Finance   \n",
       "2                                    NaN                 NaN   \n",
       "3                                     --                  --   \n",
       "4  Cable, Internet & Telephone Providers  Telecommunications   \n",
       "\n",
       "            company_revenue                                    job_description  \n",
       "0  Unknown / Non-Applicable  Bluefin Resources are seeking an experienced P...  \n",
       "1   $5 to $10 billion (USD)  We are a dynamic change team who works collabo...  \n",
       "2                       NaN  ETM Group Holdings is currently searching for ...  \n",
       "3  Unknown / Non-Applicable  Work options: Hybrid Our client is seeking a d...  \n",
       "4    $2 to $5 billion (USD)  Exciting time to join a top 100 ASX listed bus...  "
      ]
     },
     "execution_count": 4,
     "metadata": {},
     "output_type": "execute_result"
    }
   ],
   "source": [
    "df.head()"
   ]
  },
  {
   "cell_type": "code",
   "execution_count": 64,
   "id": "c8f44cac",
   "metadata": {},
   "outputs": [
    {
     "name": "stdout",
     "output_type": "stream",
     "text": [
      "<class 'pandas.core.frame.DataFrame'>\n",
      "Index: 1053 entries, 0 to 1322\n",
      "Data columns (total 13 columns):\n",
      " #   Column            Non-Null Count  Dtype  \n",
      "---  ------            --------------  -----  \n",
      " 0   job_title         1053 non-null   object \n",
      " 1   location          1053 non-null   object \n",
      " 2   salary            1053 non-null   float64\n",
      " 3   company_size      1033 non-null   object \n",
      " 4   company_founded   1033 non-null   object \n",
      " 5   company_type      1033 non-null   object \n",
      " 6   company_industry  1033 non-null   object \n",
      " 7   company_sector    1033 non-null   object \n",
      " 8   company_revenue   1033 non-null   object \n",
      " 9   job_description   1053 non-null   object \n",
      " 10  salary_hourly     1053 non-null   int64  \n",
      " 11  company_name      1053 non-null   object \n",
      " 12  company_rating    891 non-null    float64\n",
      "dtypes: float64(2), int64(1), object(10)\n",
      "memory usage: 147.5+ KB\n"
     ]
    }
   ],
   "source": [
    "df.info()"
   ]
  },
  {
   "cell_type": "markdown",
   "id": "5fb72141",
   "metadata": {},
   "source": [
    "Checking for duplicates"
   ]
  },
  {
   "cell_type": "code",
   "execution_count": 66,
   "id": "0c0a2afe",
   "metadata": {},
   "outputs": [
    {
     "data": {
      "text/plain": [
       "19"
      ]
     },
     "execution_count": 66,
     "metadata": {},
     "output_type": "execute_result"
    }
   ],
   "source": [
    "df.duplicated().sum()"
   ]
  },
  {
   "cell_type": "code",
   "execution_count": 68,
   "id": "650137d2",
   "metadata": {},
   "outputs": [],
   "source": [
    "df = df.drop_duplicates()"
   ]
  },
  {
   "cell_type": "code",
   "execution_count": 69,
   "id": "8ff55d72",
   "metadata": {},
   "outputs": [
    {
     "data": {
      "text/plain": [
       "0"
      ]
     },
     "execution_count": 69,
     "metadata": {},
     "output_type": "execute_result"
    }
   ],
   "source": [
    "df.duplicated().sum()"
   ]
  },
  {
   "cell_type": "markdown",
   "id": "67dbd823",
   "metadata": {},
   "source": [
    "Company name and rating parsing"
   ]
  },
  {
   "cell_type": "code",
   "execution_count": 43,
   "id": "566a15af",
   "metadata": {},
   "outputs": [
    {
     "data": {
      "text/plain": [
       "0             Bluefin Resources4.0 ★\n",
       "1       Macquarie Group Limited4.0 ★\n",
       "2         ETM Group Holdings Pty Ltd\n",
       "4                   TPG Telecom4.0 ★\n",
       "5                  Sydney Water3.5 ★\n",
       "                    ...             \n",
       "1316                Curio Group4.3 ★\n",
       "1317             Bain & Company4.4 ★\n",
       "1319             edX Boot Camps4.0 ★\n",
       "1321          Monash University4.1 ★\n",
       "1322          Monash University4.1 ★\n",
       "Name: company, Length: 1053, dtype: object"
      ]
     },
     "execution_count": 43,
     "metadata": {},
     "output_type": "execute_result"
    }
   ],
   "source": [
    "df['company']"
   ]
  },
  {
   "cell_type": "code",
   "execution_count": 53,
   "id": "ad799402",
   "metadata": {},
   "outputs": [],
   "source": [
    "pattern = r'(.+?)(\\d+\\.\\d+ \\★)'\n",
    "df[['company_name', 'company_rating']] = df['company'].str.extract(pattern, expand=True)\n",
    "\n",
    "# Handle entries without a rating\n",
    "df['company_name'] = df['company_name'].fillna(df['company'])\n",
    "\n",
    "#Clean up company names\n",
    "df['company_name'] = df['company_name'].str.strip()\n",
    "\n",
    "#Clean up the rating column (remove the star, strip spaces)\n",
    "df['company_rating'] = df['company_rating'].str.replace('★', '').str.strip()\n",
    "df['company_rating'] = df['company_rating'].astype(float)"
   ]
  },
  {
   "cell_type": "code",
   "execution_count": null,
   "id": "f0d786d0",
   "metadata": {},
   "outputs": [],
   "source": [
    "df.drop('company', axis=1, inplace=True)"
   ]
  },
  {
   "cell_type": "markdown",
   "id": "d4b0e4c2",
   "metadata": {},
   "source": [
    "Salary parsing"
   ]
  },
  {
   "cell_type": "code",
   "execution_count": 9,
   "id": "3aead2f8",
   "metadata": {},
   "outputs": [],
   "source": [
    "df.dropna(subset=['salary'], inplace = True)"
   ]
  },
  {
   "cell_type": "code",
   "execution_count": 24,
   "id": "a5bea3e0",
   "metadata": {},
   "outputs": [],
   "source": [
    "def salary_parse(x):\n",
    "    x = x.replace('$', '')\n",
    "    x = x.replace(',', '')\n",
    "    return x\n",
    "salary = df['salary'].apply(salary_parse)"
   ]
  },
  {
   "cell_type": "code",
   "execution_count": 28,
   "id": "26666118",
   "metadata": {},
   "outputs": [],
   "source": [
    "df['salary'] = salary"
   ]
  },
  {
   "cell_type": "code",
   "execution_count": 32,
   "id": "af963a29",
   "metadata": {},
   "outputs": [],
   "source": [
    "df['salary'] = df['salary'].apply(lambda x: float(x))"
   ]
  },
  {
   "cell_type": "code",
   "execution_count": 35,
   "id": "cfc31c75",
   "metadata": {},
   "outputs": [],
   "source": [
    "df = df[df['salary'] != 0]"
   ]
  },
  {
   "cell_type": "code",
   "execution_count": 38,
   "id": "4d22f8d7",
   "metadata": {},
   "outputs": [
    {
     "name": "stderr",
     "output_type": "stream",
     "text": [
      "C:\\Users\\alexs\\AppData\\Local\\Temp\\ipykernel_25768\\3799611637.py:1: SettingWithCopyWarning: \n",
      "A value is trying to be set on a copy of a slice from a DataFrame.\n",
      "Try using .loc[row_indexer,col_indexer] = value instead\n",
      "\n",
      "See the caveats in the documentation: https://pandas.pydata.org/pandas-docs/stable/user_guide/indexing.html#returning-a-view-versus-a-copy\n",
      "  df['salary_hourly'] = df['salary'].apply(lambda x: 1 if x < 5000 else 0)\n"
     ]
    }
   ],
   "source": [
    "df['salary_hourly'] = df['salary'].apply(lambda x: 1 if x < 5000 else 0)"
   ]
  },
  {
   "cell_type": "markdown",
   "id": "d85ab889",
   "metadata": {},
   "source": [
    "Location cleaning"
   ]
  },
  {
   "cell_type": "code",
   "execution_count": 74,
   "id": "ba362694",
   "metadata": {},
   "outputs": [],
   "source": [
    "aus_suburb_df = pd.read_excel('georef-australia-state-suburb.xlsx')"
   ]
  },
  {
   "cell_type": "code",
   "execution_count": 92,
   "id": "e24885d9",
   "metadata": {},
   "outputs": [],
   "source": [
    "nsw_suburbs = set(aus_suburb_df[aus_suburb_df['Official Code State'] == \"1\"]['Official Name Suburb'])\n",
    "vic_suburbs = set(aus_suburb_df[aus_suburb_df['Official Code State'] == \"2\"]['Official Name Suburb'])\n",
    "qld_suburbs = set(aus_suburb_df[aus_suburb_df['Official Code State'] == \"3\"]['Official Name Suburb'])\n",
    "sa_suburbs = set(aus_suburb_df[aus_suburb_df['Official Code State'] == \"4\"]['Official Name Suburb'])\n",
    "wa_suburbs = set(aus_suburb_df[aus_suburb_df['Official Code State'] == \"5\"]['Official Name Suburb'])\n",
    "tas_suburbs = set(aus_suburb_df[aus_suburb_df['Official Code State'] == \"6\"]['Official Name Suburb'])\n",
    "nt_suburbs = set(aus_suburb_df[aus_suburb_df['Official Code State'] == \"7\"]['Official Name Suburb'])\n",
    "act_suburbs = set(aus_suburb_df[aus_suburb_df['Official Code State'] == \"8\"]['Official Name Suburb'])"
   ]
  },
  {
   "cell_type": "code",
   "execution_count": 96,
   "id": "4adde5cd",
   "metadata": {},
   "outputs": [
    {
     "name": "stdout",
     "output_type": "stream",
     "text": [
      "The location is Seven Hills what state is it in?NSW\n",
      "The location is Fairfield what state is it in?NSW\n",
      "The location is Fairfield what state is it in?NSW\n",
      "The location is Australia what state is it in?AUS\n",
      "The location is Fairfield what state is it in?NSW\n",
      "The location is St Leonards what state is it in?NSW\n",
      "The location is St Leonards what state is it in?NSW\n",
      "The location is Australia what state is it in?AUS\n",
      "The location is The Rocks what state is it in?NSW\n",
      "The location is Rosebery what state is it in?NSW\n",
      "The location is Girraween what state is it in?NSW\n",
      "The location is Australia what state is it in?AUS\n",
      "The location is St Leonards what state is it in?NSW\n",
      "The location is Redbank what state is it in?QLD\n",
      "The location is Southport what state is it in?QLD\n",
      "The location is Australia what state is it in?AUS\n",
      "The location is Gold Coast what state is it in?QLD\n",
      "The location is Gold Coast what state is it in?QLD\n",
      "The location is Cairns what state is it in?QLD\n",
      "The location is Parkside what state is it in?SA\n",
      "The location is Ringwood what state is it in?VIC\n",
      "The location is Mulgrave what state is it in?VIC\n",
      "The location is Preston what state is it in?VIC\n",
      "The location is Collingwood what state is it in?VIC\n",
      "The location is Springvale what state is it in?VIC\n",
      "The location is Preston what state is it in?VIC\n",
      "The location is Cremorne what state is it in?VIC\n",
      "The location is Collingwood what state is it in?VIC\n",
      "The location is Cremorne what state is it in?VIC\n",
      "The location is Collingwood what state is it in?VIC\n",
      "The location is Sunshine what state is it in?VIC\n",
      "The location is Mulgrave what state is it in?VIC\n",
      "The location is Burwood what state is it in?VIC\n",
      "The location is Mulgrave what state is it in?VIC\n",
      "The location is Mulgrave what state is it in?VIC\n",
      "The location is Hawthorn what state is it in?VIC\n",
      "The location is Somerton what state is it in?VIC\n",
      "The location is Perth what state is it in?WA\n",
      "The location is Perth what state is it in?WA\n",
      "The location is Perth what state is it in?WA\n",
      "The location is Northbridge what state is it in?WA\n",
      "The location is Guildford what state is it in?WA\n",
      "The location is Perth what state is it in?WA\n",
      "The location is Perth what state is it in?WA\n",
      "The location is Perth what state is it in?WA\n",
      "The location is Perth what state is it in?WA\n",
      "The location is Perth what state is it in?WA\n",
      "The location is Perth what state is it in?WA\n",
      "The location is Perth what state is it in?WA\n",
      "The location is Perth what state is it in?WA\n",
      "The location is Perth what state is it in?WA\n",
      "The location is Kwinana what state is it in?\n",
      "The location is Perth what state is it in?WA\n",
      "The location is Perth what state is it in?WA\n",
      "The location is Perth what state is it in?WA\n",
      "The location is Perth what state is it in?WA\n",
      "The location is Perth what state is it in?WA\n",
      "The location is Northbridge what state is it in?WA\n",
      "The location is Perth what state is it in?WA\n",
      "The location is Perth what state is it in?WA\n",
      "The location is Guildford what state is it in?WA\n",
      "The location is Perth what state is it in?WA\n",
      "The location is Perth what state is it in?WA\n",
      "The location is Perth what state is it in?WA\n",
      "The location is Perth what state is it in?WA\n",
      "The location is Perth what state is it in?WA\n",
      "The location is Perth what state is it in?WA\n",
      "The location is Perth what state is it in?WA\n",
      "The location is Perth what state is it in?WA\n",
      "The location is Perth what state is it in?WA\n",
      "The location is Perth what state is it in?WA\n",
      "The location is Perth what state is it in?WA\n",
      "The location is Australia what state is it in?AUS\n",
      "The location is Perth what state is it in?WA\n",
      "The location is Perth what state is it in?WA\n",
      "The location is Perth what state is it in?WA\n",
      "The location is Perth what state is it in?WA\n",
      "The location is Perth what state is it in?WA\n",
      "The location is Mulgrave what state is it in?VIC\n",
      "The location is Fairfield what state is it in?NSW\n",
      "The location is Australia what state is it in?AUS\n",
      "The location is Mulgrave what state is it in?VIC\n",
      "The location is Perth what state is it in?WA\n",
      "The location is Australia what state is it in?AUS\n",
      "The location is Box Hill what state is it in?VIC\n",
      "The location is Clayton North what state is it in?VIC\n",
      "The location is Burwood what state is it in?VIC\n",
      "The location is Perth what state is it in?WA\n",
      "The location is Perth what state is it in?WA\n",
      "The location is Clayton North what state is it in?VIC\n",
      "The location is Clayton North what state is it in?VIC\n"
     ]
    }
   ],
   "source": [
    "state = []\n",
    "for location in df['location']:\n",
    "    if location == 'New South Wales' or location in nsw_suburbs:\n",
    "        state.append('NSW')\n",
    "    elif location == 'Victoria' or location in vic_suburbs:\n",
    "        state.append('VIC')\n",
    "    elif location == 'Queensland' or location in qld_suburbs or location  == 'Brisbane':\n",
    "        state.append('QLD')\n",
    "    elif location == 'South Australia' or location in sa_suburbs or location == 'Adelaide':\n",
    "        state.append('SA')\n",
    "    elif location == 'Western Australia' or location in wa_suburbs or location == 'Perth':\n",
    "        state.append('WA')\n",
    "    elif location == 'Tasmania' or location in tas_suburbs:\n",
    "        state.append('TAS')\n",
    "    elif location == 'Northern Territory' or location in nt_suburbs or location == 'Darwin':\n",
    "        state.append('NT')\n",
    "    elif location == 'Australian Capital Territory' or location in act_suburbs or location == 'Canberra':\n",
    "        state.append('ACT')\n",
    "    elif location == 'Remote':\n",
    "        state.append('remote')\n",
    "    else:\n",
    "        state.append(input(f'The location is {location} what state is it in?' ))"
   ]
  },
  {
   "cell_type": "code",
   "execution_count": 98,
   "id": "95aca83e",
   "metadata": {},
   "outputs": [],
   "source": [
    "df['state'] = state"
   ]
  },
  {
   "cell_type": "code",
   "execution_count": 110,
   "id": "4ab3e08a",
   "metadata": {},
   "outputs": [],
   "source": [
    "df.loc[df['state'] == '', 'state'] = 'WA'"
   ]
  },
  {
   "cell_type": "code",
   "execution_count": 116,
   "id": "84576614",
   "metadata": {},
   "outputs": [],
   "source": [
    "df.loc[df['company_name'] == 'Map Talent', 'state'] = 'NSW'"
   ]
  },
  {
   "cell_type": "markdown",
   "id": "9d1e52d6",
   "metadata": {},
   "source": [
    "Parsing of job description"
   ]
  },
  {
   "cell_type": "code",
   "execution_count": 159,
   "id": "3243dac5",
   "metadata": {},
   "outputs": [],
   "source": [
    "# Some key skills we'll look for include SQL, Python, excel, spark, aws, r studio, data cleaning, data warehousing, \n",
    "# Tableau, Power BI, math, machine learning, statistics, presentation and reporting."
   ]
  },
  {
   "cell_type": "code",
   "execution_count": 164,
   "id": "d9fc1c3e",
   "metadata": {},
   "outputs": [],
   "source": [
    "df['python'] = df['job_description'].apply(lambda x: 1 if 'python' in x.lower() else 0)\n",
    "df['SQL'] = df['job_description'].apply(lambda x: 1 if 'SQL' in x else 0)\n",
    "df['excel'] = df['job_description'].apply(lambda x: 1 if 'excel' in x.lower() else 0)\n",
    "df['spark'] = df['job_description'].apply(lambda x: 1 if 'spark' in x.lower() else 0)\n",
    "df['aws'] = df['job_description'].apply(lambda x: 1 if 'aws' in x.lower() else 0)\n",
    "df['R'] = df['job_description'].apply(lambda x: 1 if 'r studio' in x.lower() or 'r language' in x.lower() else 0)\n",
    "df['data cleaning'] = df['job_description'].apply(lambda x: 1 if 'data cleaning' in x.lower() else 0)\n",
    "df['warehousing'] = df['job_description'].apply(lambda x: 1 if 'warehousing' in x.lower() else 0)\n",
    "df['tableau'] = df['job_description'].apply(lambda x: 1 if 'tableau' in x.lower() else 0)\n",
    "df['power_bi'] = df['job_description'].apply(lambda x: 1 if 'power bi' in x.lower() else 0)\n",
    "df['math'] = df['job_description'].apply(lambda x: 1 if 'math' in x.lower() else 0)\n",
    "df['machine_learning'] = df['job_description'].apply(lambda x: 1 if 'machine learning' in x.lower() else 0)\n",
    "df['statistics'] = df['job_description'].apply(lambda x: 1 if 'statistic' in x.lower() else 0)\n",
    "df['presentation'] = df['job_description'].apply(lambda x: 1 if 'presentation' in x.lower() else 0)\n",
    "df['reporting'] = df['job_description'].apply(lambda x: 1 if 'reporting' in x.lower() else 0)"
   ]
  },
  {
   "cell_type": "code",
   "execution_count": 182,
   "id": "99c1f9f5",
   "metadata": {},
   "outputs": [
    {
     "name": "stdout",
     "output_type": "stream",
     "text": [
      "Value counts for salary_hourly:\n",
      "salary_hourly\n",
      "0    1000\n",
      "1      34\n",
      "Name: count, dtype: int64\n",
      "\n",
      "Value counts for python:\n",
      "python\n",
      "0    819\n",
      "1    215\n",
      "Name: count, dtype: int64\n",
      "\n",
      "Value counts for SQL:\n",
      "SQL\n",
      "0    693\n",
      "1    341\n",
      "Name: count, dtype: int64\n",
      "\n",
      "Value counts for excel:\n",
      "excel\n",
      "1    611\n",
      "0    423\n",
      "Name: count, dtype: int64\n",
      "\n",
      "Value counts for spark:\n",
      "spark\n",
      "0    999\n",
      "1     35\n",
      "Name: count, dtype: int64\n",
      "\n",
      "Value counts for aws:\n",
      "aws\n",
      "0    947\n",
      "1     87\n",
      "Name: count, dtype: int64\n",
      "\n",
      "Value counts for R:\n",
      "R\n",
      "0    1023\n",
      "1      11\n",
      "Name: count, dtype: int64\n",
      "\n",
      "Value counts for data cleaning:\n",
      "data cleaning\n",
      "0    1024\n",
      "1      10\n",
      "Name: count, dtype: int64\n",
      "\n",
      "Value counts for warehousing:\n",
      "warehousing\n",
      "0    989\n",
      "1     45\n",
      "Name: count, dtype: int64\n",
      "\n",
      "Value counts for tableau:\n",
      "tableau\n",
      "0    895\n",
      "1    139\n",
      "Name: count, dtype: int64\n",
      "\n",
      "Value counts for power_bi:\n",
      "power_bi\n",
      "0    849\n",
      "1    185\n",
      "Name: count, dtype: int64\n",
      "\n",
      "Value counts for math:\n",
      "math\n",
      "0    909\n",
      "1    125\n",
      "Name: count, dtype: int64\n",
      "\n",
      "Value counts for machine_learning:\n",
      "machine_learning\n",
      "0    924\n",
      "1    110\n",
      "Name: count, dtype: int64\n",
      "\n",
      "Value counts for statistics:\n",
      "statistics\n",
      "0    827\n",
      "1    207\n",
      "Name: count, dtype: int64\n",
      "\n",
      "Value counts for presentation:\n",
      "presentation\n",
      "0    833\n",
      "1    201\n",
      "Name: count, dtype: int64\n",
      "\n",
      "Value counts for reporting:\n",
      "reporting\n",
      "1    523\n",
      "0    511\n",
      "Name: count, dtype: int64\n",
      "\n"
     ]
    }
   ],
   "source": [
    "boolean_columns = df.select_dtypes(include=['int']).columns\n",
    "\n",
    "value_counts_per_column = {col: df[col].value_counts() for col in boolean_columns}\n",
    "\n",
    "for col, counts in value_counts_per_column.items():\n",
    "    print(f\"Value counts for {col}:\\n{counts}\\n\")"
   ]
  },
  {
   "cell_type": "code",
   "execution_count": 185,
   "id": "8264ca3f",
   "metadata": {},
   "outputs": [],
   "source": [
    "df.drop(['spark', 'aws', 'R', 'data cleaning', 'warehousing'], axis=1, inplace=True)"
   ]
  },
  {
   "cell_type": "markdown",
   "id": "dad3c04d",
   "metadata": {},
   "source": [
    "Age of company"
   ]
  },
  {
   "cell_type": "code",
   "execution_count": 141,
   "id": "f8bb5ada",
   "metadata": {},
   "outputs": [],
   "source": [
    "def company_age_calc(x):\n",
    "    if x == '--':\n",
    "        return None\n",
    "    elif isinstance(x, str):\n",
    "        return 2023 - int(x)\n",
    "    else:\n",
    "        return x\n",
    "\n",
    "company_age = df['company_founded'].apply(company_age_calc)"
   ]
  },
  {
   "cell_type": "code",
   "execution_count": 155,
   "id": "c6779583",
   "metadata": {},
   "outputs": [],
   "source": [
    "df['company_age'] = company_age"
   ]
  },
  {
   "cell_type": "markdown",
   "id": "ceb7fa1e",
   "metadata": {},
   "source": [
    "Cleaning company size column"
   ]
  },
  {
   "cell_type": "code",
   "execution_count": 205,
   "id": "1ea69ca0",
   "metadata": {},
   "outputs": [
    {
     "data": {
      "text/plain": [
       "0       51-200\n",
       "1       >10000\n",
       "2          NaN\n",
       "4    1001-5000\n",
       "5      Unknown\n",
       "Name: company_size, dtype: object"
      ]
     },
     "execution_count": 205,
     "metadata": {},
     "output_type": "execute_result"
    }
   ],
   "source": [
    "df['company_size'].head()"
   ]
  },
  {
   "cell_type": "code",
   "execution_count": 197,
   "id": "a87abe77",
   "metadata": {},
   "outputs": [
    {
     "data": {
      "text/plain": [
       "company_size\n",
       "10000+ Employees           216\n",
       "1 to 50 Employees          167\n",
       "Unknown                    163\n",
       "1001 to 5000 Employees     147\n",
       "51 to 200 Employees        112\n",
       "201 to 500 Employees        78\n",
       "501 to 1000 Employees       66\n",
       "5001 to 10000 Employees     65\n",
       "Name: count, dtype: int64"
      ]
     },
     "execution_count": 197,
     "metadata": {},
     "output_type": "execute_result"
    }
   ],
   "source": [
    "df['company_size'].value_counts()"
   ]
  },
  {
   "cell_type": "code",
   "execution_count": 200,
   "id": "7062843f",
   "metadata": {},
   "outputs": [],
   "source": [
    "def company_size_clean(x):\n",
    "    if x == '10000+ Employees':\n",
    "        return '>10000'\n",
    "    elif x == '5001 to 10000 Employees':\n",
    "        return '5001-10000'\n",
    "    elif x == '1001 to 5000 Employees':\n",
    "        return '1001-5000'\n",
    "    elif x == '501 to 1000 Employees':\n",
    "        return '501-1000'\n",
    "    elif x == '201 to 500 Employees':\n",
    "        return '201-500'\n",
    "    elif x == '51 to 200 Employees':\n",
    "        return '51-200'\n",
    "    elif x == '1 to 50 Employees':\n",
    "        return '1-50'\n",
    "    elif x == 'Unkown':\n",
    "        return None\n",
    "    else:\n",
    "        return x"
   ]
  },
  {
   "cell_type": "code",
   "execution_count": 204,
   "id": "3240b0bb",
   "metadata": {},
   "outputs": [],
   "source": [
    "company_size = df['company_size'].apply(company_size_clean)\n",
    "df['company_size'] = company_size"
   ]
  },
  {
   "cell_type": "markdown",
   "id": "02c9e880",
   "metadata": {},
   "source": [
    "Cleanign company type column"
   ]
  },
  {
   "cell_type": "code",
   "execution_count": 207,
   "id": "22eab5b6",
   "metadata": {},
   "outputs": [
    {
     "data": {
      "text/plain": [
       "company_type\n",
       "Company - Private                 500\n",
       "Company - Public                  372\n",
       "Government                         50\n",
       "College / University               31\n",
       "Non-profit Organisation            16\n",
       "Subsidiary or Business Segment     16\n",
       "Unknown                             9\n",
       "Contract                            8\n",
       "Hospital                            6\n",
       "Private Practice / Firm             4\n",
       "Self-employed                       2\n",
       "Name: count, dtype: int64"
      ]
     },
     "execution_count": 207,
     "metadata": {},
     "output_type": "execute_result"
    }
   ],
   "source": [
    "df['company_type'].value_counts()"
   ]
  },
  {
   "cell_type": "code",
   "execution_count": 210,
   "id": "81eea753",
   "metadata": {},
   "outputs": [],
   "source": [
    "df['company_type'] = df['company_type'].apply(lambda x: None if x == 'Unknown' else x)"
   ]
  },
  {
   "cell_type": "markdown",
   "id": "59db8472",
   "metadata": {},
   "source": [
    "Cleaning company industry column"
   ]
  },
  {
   "cell_type": "code",
   "execution_count": 213,
   "id": "98f9f510",
   "metadata": {},
   "outputs": [
    {
     "data": {
      "text/plain": [
       "company_industry\n",
       "--                                         310\n",
       "HR Consulting                              119\n",
       "Investment & Asset Management               55\n",
       "Banking & Lending                           46\n",
       "Information Technology Support Services     44\n",
       "                                          ... \n",
       "Pharmaceutical                               1\n",
       "Mining & Metals                              1\n",
       "Grantmaking & Charitable Foundations         1\n",
       "Health Care Products Manufacturing           1\n",
       "Primary & Secondary Schools                  1\n",
       "Name: count, Length: 68, dtype: int64"
      ]
     },
     "execution_count": 213,
     "metadata": {},
     "output_type": "execute_result"
    }
   ],
   "source": [
    "df['company_industry'].value_counts()"
   ]
  },
  {
   "cell_type": "code",
   "execution_count": 219,
   "id": "12072d3e",
   "metadata": {},
   "outputs": [
    {
     "data": {
      "text/plain": [
       "20"
      ]
     },
     "execution_count": 219,
     "metadata": {},
     "output_type": "execute_result"
    }
   ],
   "source": [
    "df['company_industry'].isna().sum()"
   ]
  },
  {
   "cell_type": "code",
   "execution_count": 222,
   "id": "7e6aa02b",
   "metadata": {},
   "outputs": [],
   "source": [
    "df['company_industry'] = df['company_industry'].apply(lambda x: None if x == '--' else x)"
   ]
  },
  {
   "cell_type": "markdown",
   "id": "dac6d958",
   "metadata": {},
   "source": [
    "Cleaning company sector column"
   ]
  },
  {
   "cell_type": "code",
   "execution_count": 223,
   "id": "0a934d21",
   "metadata": {},
   "outputs": [
    {
     "data": {
      "text/plain": [
       "company_sector\n",
       "--                                             310\n",
       "Human Resources & Staffing                     137\n",
       "Finance                                        114\n",
       "Information Technology                         107\n",
       "Management & Consulting                         51\n",
       "Manufacturing                                   43\n",
       "Retail & Wholesale                              35\n",
       "Education                                       31\n",
       "Government & Public Administration              29\n",
       "Media & Communication                           23\n",
       "Transportation & Logistics                      18\n",
       "Energy, Mining, Utilities                       17\n",
       "Insurance                                       17\n",
       "Real Estate                                     15\n",
       "Healthcare                                      14\n",
       "Construction, Repair & Maintenance Services     11\n",
       "Aerospace & Defence                              8\n",
       "Hotel & Travel Accommodation                     6\n",
       "Telecommunications                               6\n",
       "Non-profit & NGO                                 5\n",
       "Restaurants & Food Service                       5\n",
       "Arts, Entertainment & Recreation                 5\n",
       "Legal                                            4\n",
       "Pharmaceutical & Biotechnology                   3\n",
       "Name: count, dtype: int64"
      ]
     },
     "execution_count": 223,
     "metadata": {},
     "output_type": "execute_result"
    }
   ],
   "source": [
    "df['company_sector'].value_counts()"
   ]
  },
  {
   "cell_type": "code",
   "execution_count": 225,
   "id": "40574ef7",
   "metadata": {},
   "outputs": [],
   "source": [
    "df['company_sector'] = df['company_sector'].apply(lambda x: None if x == '--' else x)"
   ]
  },
  {
   "cell_type": "markdown",
   "id": "09abf2a4",
   "metadata": {},
   "source": [
    "Cleaning company revenue column"
   ]
  },
  {
   "cell_type": "code",
   "execution_count": 227,
   "id": "45a4c4c1",
   "metadata": {},
   "outputs": [
    {
     "data": {
      "text/plain": [
       "company_revenue\n",
       "Unknown / Non-Applicable            589\n",
       "$10+ billion (USD)                   94\n",
       "$2 to $5 billion (USD)               80\n",
       "$5 to $10 billion (USD)              79\n",
       "$500 million to $1 billion (USD)     58\n",
       "$100 to $500 million (USD)           49\n",
       "$25 to $50 million (USD)             29\n",
       "$5 to $25 million (USD)              20\n",
       "$1 to $5 million (USD)               10\n",
       "Less than $1 million (USD)            6\n",
       "Name: count, dtype: int64"
      ]
     },
     "execution_count": 227,
     "metadata": {},
     "output_type": "execute_result"
    }
   ],
   "source": [
    "df['company_revenue'].value_counts()"
   ]
  },
  {
   "cell_type": "code",
   "execution_count": 235,
   "id": "dfc5866b",
   "metadata": {},
   "outputs": [],
   "source": [
    "df['company_revenue'] = df['company_revenue'].apply(lambda x: None if x == 'Unknown / Non-Applicable' else x)"
   ]
  },
  {
   "cell_type": "markdown",
   "id": "b28c89c5",
   "metadata": {},
   "source": [
    "Dropping redundant columns"
   ]
  },
  {
   "cell_type": "code",
   "execution_count": 236,
   "id": "9365d9c0",
   "metadata": {},
   "outputs": [
    {
     "data": {
      "text/plain": [
       "Index(['job_title', 'location', 'salary', 'company_size', 'company_founded',\n",
       "       'company_type', 'company_industry', 'company_sector', 'company_revenue',\n",
       "       'job_description', 'salary_hourly', 'company_name', 'company_rating',\n",
       "       'state', 'company_age', 'python', 'SQL', 'excel', 'tableau', 'power_bi',\n",
       "       'math', 'machine_learning', 'statistics', 'presentation', 'reporting'],\n",
       "      dtype='object')"
      ]
     },
     "execution_count": 236,
     "metadata": {},
     "output_type": "execute_result"
    }
   ],
   "source": [
    "df.columns"
   ]
  },
  {
   "cell_type": "code",
   "execution_count": 239,
   "id": "8657191f",
   "metadata": {},
   "outputs": [],
   "source": [
    "df.drop(['location', 'company_founded', 'job_description'], axis=1, inplace=True)"
   ]
  },
  {
   "cell_type": "code",
   "execution_count": 241,
   "id": "1a849eb7",
   "metadata": {},
   "outputs": [
    {
     "data": {
      "text/html": [
       "<div>\n",
       "<style scoped>\n",
       "    .dataframe tbody tr th:only-of-type {\n",
       "        vertical-align: middle;\n",
       "    }\n",
       "\n",
       "    .dataframe tbody tr th {\n",
       "        vertical-align: top;\n",
       "    }\n",
       "\n",
       "    .dataframe thead th {\n",
       "        text-align: right;\n",
       "    }\n",
       "</style>\n",
       "<table border=\"1\" class=\"dataframe\">\n",
       "  <thead>\n",
       "    <tr style=\"text-align: right;\">\n",
       "      <th></th>\n",
       "      <th>job_title</th>\n",
       "      <th>salary</th>\n",
       "      <th>company_size</th>\n",
       "      <th>company_type</th>\n",
       "      <th>company_industry</th>\n",
       "      <th>company_sector</th>\n",
       "      <th>company_revenue</th>\n",
       "      <th>salary_hourly</th>\n",
       "      <th>company_name</th>\n",
       "      <th>company_rating</th>\n",
       "      <th>...</th>\n",
       "      <th>python</th>\n",
       "      <th>SQL</th>\n",
       "      <th>excel</th>\n",
       "      <th>tableau</th>\n",
       "      <th>power_bi</th>\n",
       "      <th>math</th>\n",
       "      <th>machine_learning</th>\n",
       "      <th>statistics</th>\n",
       "      <th>presentation</th>\n",
       "      <th>reporting</th>\n",
       "    </tr>\n",
       "  </thead>\n",
       "  <tbody>\n",
       "    <tr>\n",
       "      <th>0</th>\n",
       "      <td>EMPO Reporting Analyst</td>\n",
       "      <td>120000.0</td>\n",
       "      <td>51-200</td>\n",
       "      <td>Company - Private</td>\n",
       "      <td>None</td>\n",
       "      <td>None</td>\n",
       "      <td>None</td>\n",
       "      <td>0</td>\n",
       "      <td>Bluefin Resources</td>\n",
       "      <td>4.0</td>\n",
       "      <td>...</td>\n",
       "      <td>0</td>\n",
       "      <td>0</td>\n",
       "      <td>1</td>\n",
       "      <td>0</td>\n",
       "      <td>0</td>\n",
       "      <td>0</td>\n",
       "      <td>0</td>\n",
       "      <td>0</td>\n",
       "      <td>0</td>\n",
       "      <td>1</td>\n",
       "    </tr>\n",
       "    <tr>\n",
       "      <th>1</th>\n",
       "      <td>Junior Data Business Analyst | Commodities and...</td>\n",
       "      <td>108167.0</td>\n",
       "      <td>&gt;10000</td>\n",
       "      <td>Company - Public</td>\n",
       "      <td>Investment &amp; Asset Management</td>\n",
       "      <td>Finance</td>\n",
       "      <td>$5 to $10 billion (USD)</td>\n",
       "      <td>0</td>\n",
       "      <td>Macquarie Group Limited</td>\n",
       "      <td>4.0</td>\n",
       "      <td>...</td>\n",
       "      <td>0</td>\n",
       "      <td>0</td>\n",
       "      <td>1</td>\n",
       "      <td>0</td>\n",
       "      <td>0</td>\n",
       "      <td>0</td>\n",
       "      <td>0</td>\n",
       "      <td>0</td>\n",
       "      <td>0</td>\n",
       "      <td>0</td>\n",
       "    </tr>\n",
       "    <tr>\n",
       "      <th>2</th>\n",
       "      <td>Business Analyst</td>\n",
       "      <td>90000.0</td>\n",
       "      <td>NaN</td>\n",
       "      <td>NaN</td>\n",
       "      <td>NaN</td>\n",
       "      <td>NaN</td>\n",
       "      <td>NaN</td>\n",
       "      <td>0</td>\n",
       "      <td>ETM Group Holdings Pty Ltd</td>\n",
       "      <td>NaN</td>\n",
       "      <td>...</td>\n",
       "      <td>0</td>\n",
       "      <td>0</td>\n",
       "      <td>0</td>\n",
       "      <td>0</td>\n",
       "      <td>0</td>\n",
       "      <td>0</td>\n",
       "      <td>0</td>\n",
       "      <td>0</td>\n",
       "      <td>0</td>\n",
       "      <td>0</td>\n",
       "    </tr>\n",
       "    <tr>\n",
       "      <th>4</th>\n",
       "      <td>Data &amp; Reporting Analyst</td>\n",
       "      <td>78772.0</td>\n",
       "      <td>1001-5000</td>\n",
       "      <td>Company - Public</td>\n",
       "      <td>Cable, Internet &amp; Telephone Providers</td>\n",
       "      <td>Telecommunications</td>\n",
       "      <td>$2 to $5 billion (USD)</td>\n",
       "      <td>0</td>\n",
       "      <td>TPG Telecom</td>\n",
       "      <td>4.0</td>\n",
       "      <td>...</td>\n",
       "      <td>0</td>\n",
       "      <td>1</td>\n",
       "      <td>1</td>\n",
       "      <td>0</td>\n",
       "      <td>1</td>\n",
       "      <td>0</td>\n",
       "      <td>0</td>\n",
       "      <td>0</td>\n",
       "      <td>0</td>\n",
       "      <td>1</td>\n",
       "    </tr>\n",
       "    <tr>\n",
       "      <th>5</th>\n",
       "      <td>Data Analyst - Remote</td>\n",
       "      <td>118761.0</td>\n",
       "      <td>Unknown</td>\n",
       "      <td>Government</td>\n",
       "      <td>Energy &amp; Utilities</td>\n",
       "      <td>Energy, Mining, Utilities</td>\n",
       "      <td>None</td>\n",
       "      <td>0</td>\n",
       "      <td>Sydney Water</td>\n",
       "      <td>3.5</td>\n",
       "      <td>...</td>\n",
       "      <td>1</td>\n",
       "      <td>1</td>\n",
       "      <td>0</td>\n",
       "      <td>0</td>\n",
       "      <td>1</td>\n",
       "      <td>1</td>\n",
       "      <td>0</td>\n",
       "      <td>0</td>\n",
       "      <td>0</td>\n",
       "      <td>1</td>\n",
       "    </tr>\n",
       "    <tr>\n",
       "      <th>...</th>\n",
       "      <td>...</td>\n",
       "      <td>...</td>\n",
       "      <td>...</td>\n",
       "      <td>...</td>\n",
       "      <td>...</td>\n",
       "      <td>...</td>\n",
       "      <td>...</td>\n",
       "      <td>...</td>\n",
       "      <td>...</td>\n",
       "      <td>...</td>\n",
       "      <td>...</td>\n",
       "      <td>...</td>\n",
       "      <td>...</td>\n",
       "      <td>...</td>\n",
       "      <td>...</td>\n",
       "      <td>...</td>\n",
       "      <td>...</td>\n",
       "      <td>...</td>\n",
       "      <td>...</td>\n",
       "      <td>...</td>\n",
       "      <td>...</td>\n",
       "    </tr>\n",
       "    <tr>\n",
       "      <th>1315</th>\n",
       "      <td>Analytics Manager - Retail</td>\n",
       "      <td>142500.0</td>\n",
       "      <td>51-200</td>\n",
       "      <td>Company - Private</td>\n",
       "      <td>None</td>\n",
       "      <td>None</td>\n",
       "      <td>None</td>\n",
       "      <td>0</td>\n",
       "      <td>Bluefin Resources</td>\n",
       "      <td>4.0</td>\n",
       "      <td>...</td>\n",
       "      <td>1</td>\n",
       "      <td>1</td>\n",
       "      <td>0</td>\n",
       "      <td>0</td>\n",
       "      <td>1</td>\n",
       "      <td>0</td>\n",
       "      <td>1</td>\n",
       "      <td>0</td>\n",
       "      <td>0</td>\n",
       "      <td>0</td>\n",
       "    </tr>\n",
       "    <tr>\n",
       "      <th>1316</th>\n",
       "      <td>Expression of Interest for Online Facilitators...</td>\n",
       "      <td>111803.0</td>\n",
       "      <td>1-50</td>\n",
       "      <td>Private Practice / Firm</td>\n",
       "      <td>None</td>\n",
       "      <td>None</td>\n",
       "      <td>None</td>\n",
       "      <td>0</td>\n",
       "      <td>Curio Group</td>\n",
       "      <td>4.3</td>\n",
       "      <td>...</td>\n",
       "      <td>0</td>\n",
       "      <td>0</td>\n",
       "      <td>0</td>\n",
       "      <td>0</td>\n",
       "      <td>0</td>\n",
       "      <td>0</td>\n",
       "      <td>0</td>\n",
       "      <td>0</td>\n",
       "      <td>0</td>\n",
       "      <td>0</td>\n",
       "    </tr>\n",
       "    <tr>\n",
       "      <th>1317</th>\n",
       "      <td>Lead, Machine Learning Engineer</td>\n",
       "      <td>80095.0</td>\n",
       "      <td>&gt;10000</td>\n",
       "      <td>Company - Private</td>\n",
       "      <td>Business Consulting</td>\n",
       "      <td>Management &amp; Consulting</td>\n",
       "      <td>$5 to $10 billion (USD)</td>\n",
       "      <td>0</td>\n",
       "      <td>Bain &amp; Company</td>\n",
       "      <td>4.4</td>\n",
       "      <td>...</td>\n",
       "      <td>1</td>\n",
       "      <td>1</td>\n",
       "      <td>0</td>\n",
       "      <td>0</td>\n",
       "      <td>0</td>\n",
       "      <td>0</td>\n",
       "      <td>1</td>\n",
       "      <td>1</td>\n",
       "      <td>0</td>\n",
       "      <td>0</td>\n",
       "    </tr>\n",
       "    <tr>\n",
       "      <th>1321</th>\n",
       "      <td>PhD Project – Supervised and knowledge-guided ...</td>\n",
       "      <td>30000.0</td>\n",
       "      <td>&gt;10000</td>\n",
       "      <td>College / University</td>\n",
       "      <td>Colleges &amp; Universities</td>\n",
       "      <td>Education</td>\n",
       "      <td>$2 to $5 billion (USD)</td>\n",
       "      <td>0</td>\n",
       "      <td>Monash University</td>\n",
       "      <td>4.1</td>\n",
       "      <td>...</td>\n",
       "      <td>0</td>\n",
       "      <td>0</td>\n",
       "      <td>1</td>\n",
       "      <td>0</td>\n",
       "      <td>0</td>\n",
       "      <td>0</td>\n",
       "      <td>1</td>\n",
       "      <td>0</td>\n",
       "      <td>0</td>\n",
       "      <td>0</td>\n",
       "    </tr>\n",
       "    <tr>\n",
       "      <th>1322</th>\n",
       "      <td>Lecturer/Senior Lecturer - Business Analytics</td>\n",
       "      <td>147174.0</td>\n",
       "      <td>&gt;10000</td>\n",
       "      <td>College / University</td>\n",
       "      <td>Colleges &amp; Universities</td>\n",
       "      <td>Education</td>\n",
       "      <td>$2 to $5 billion (USD)</td>\n",
       "      <td>0</td>\n",
       "      <td>Monash University</td>\n",
       "      <td>4.1</td>\n",
       "      <td>...</td>\n",
       "      <td>0</td>\n",
       "      <td>0</td>\n",
       "      <td>1</td>\n",
       "      <td>0</td>\n",
       "      <td>0</td>\n",
       "      <td>0</td>\n",
       "      <td>1</td>\n",
       "      <td>1</td>\n",
       "      <td>0</td>\n",
       "      <td>0</td>\n",
       "    </tr>\n",
       "  </tbody>\n",
       "</table>\n",
       "<p>1034 rows × 22 columns</p>\n",
       "</div>"
      ],
      "text/plain": [
       "                                              job_title    salary  \\\n",
       "0                                EMPO Reporting Analyst  120000.0   \n",
       "1     Junior Data Business Analyst | Commodities and...  108167.0   \n",
       "2                                      Business Analyst   90000.0   \n",
       "4                              Data & Reporting Analyst   78772.0   \n",
       "5                                 Data Analyst - Remote  118761.0   \n",
       "...                                                 ...       ...   \n",
       "1315                         Analytics Manager - Retail  142500.0   \n",
       "1316  Expression of Interest for Online Facilitators...  111803.0   \n",
       "1317                    Lead, Machine Learning Engineer   80095.0   \n",
       "1321  PhD Project – Supervised and knowledge-guided ...   30000.0   \n",
       "1322      Lecturer/Senior Lecturer - Business Analytics  147174.0   \n",
       "\n",
       "     company_size             company_type  \\\n",
       "0          51-200        Company - Private   \n",
       "1          >10000         Company - Public   \n",
       "2             NaN                      NaN   \n",
       "4       1001-5000         Company - Public   \n",
       "5         Unknown               Government   \n",
       "...           ...                      ...   \n",
       "1315       51-200        Company - Private   \n",
       "1316         1-50  Private Practice / Firm   \n",
       "1317       >10000        Company - Private   \n",
       "1321       >10000     College / University   \n",
       "1322       >10000     College / University   \n",
       "\n",
       "                           company_industry             company_sector  \\\n",
       "0                                      None                       None   \n",
       "1             Investment & Asset Management                    Finance   \n",
       "2                                       NaN                        NaN   \n",
       "4     Cable, Internet & Telephone Providers         Telecommunications   \n",
       "5                        Energy & Utilities  Energy, Mining, Utilities   \n",
       "...                                     ...                        ...   \n",
       "1315                                   None                       None   \n",
       "1316                                   None                       None   \n",
       "1317                    Business Consulting    Management & Consulting   \n",
       "1321                Colleges & Universities                  Education   \n",
       "1322                Colleges & Universities                  Education   \n",
       "\n",
       "              company_revenue  salary_hourly                company_name  \\\n",
       "0                        None              0           Bluefin Resources   \n",
       "1     $5 to $10 billion (USD)              0     Macquarie Group Limited   \n",
       "2                         NaN              0  ETM Group Holdings Pty Ltd   \n",
       "4      $2 to $5 billion (USD)              0                 TPG Telecom   \n",
       "5                        None              0                Sydney Water   \n",
       "...                       ...            ...                         ...   \n",
       "1315                     None              0           Bluefin Resources   \n",
       "1316                     None              0                 Curio Group   \n",
       "1317  $5 to $10 billion (USD)              0              Bain & Company   \n",
       "1321   $2 to $5 billion (USD)              0           Monash University   \n",
       "1322   $2 to $5 billion (USD)              0           Monash University   \n",
       "\n",
       "      company_rating  ... python  SQL  excel  tableau  power_bi  math  \\\n",
       "0                4.0  ...      0    0      1        0         0     0   \n",
       "1                4.0  ...      0    0      1        0         0     0   \n",
       "2                NaN  ...      0    0      0        0         0     0   \n",
       "4                4.0  ...      0    1      1        0         1     0   \n",
       "5                3.5  ...      1    1      0        0         1     1   \n",
       "...              ...  ...    ...  ...    ...      ...       ...   ...   \n",
       "1315             4.0  ...      1    1      0        0         1     0   \n",
       "1316             4.3  ...      0    0      0        0         0     0   \n",
       "1317             4.4  ...      1    1      0        0         0     0   \n",
       "1321             4.1  ...      0    0      1        0         0     0   \n",
       "1322             4.1  ...      0    0      1        0         0     0   \n",
       "\n",
       "      machine_learning  statistics  presentation  reporting  \n",
       "0                    0           0             0          1  \n",
       "1                    0           0             0          0  \n",
       "2                    0           0             0          0  \n",
       "4                    0           0             0          1  \n",
       "5                    0           0             0          1  \n",
       "...                ...         ...           ...        ...  \n",
       "1315                 1           0             0          0  \n",
       "1316                 0           0             0          0  \n",
       "1317                 1           1             0          0  \n",
       "1321                 1           0             0          0  \n",
       "1322                 1           1             0          0  \n",
       "\n",
       "[1034 rows x 22 columns]"
      ]
     },
     "execution_count": 241,
     "metadata": {},
     "output_type": "execute_result"
    }
   ],
   "source": [
    "df"
   ]
  },
  {
   "cell_type": "code",
   "execution_count": 242,
   "id": "303ddcaf",
   "metadata": {},
   "outputs": [],
   "source": [
    "df.to_csv('job_data_salary_cleaned.csv', index = False)"
   ]
  }
 ],
 "metadata": {
  "kernelspec": {
   "display_name": "Python 3 (ipykernel)",
   "language": "python",
   "name": "python3"
  },
  "language_info": {
   "codemirror_mode": {
    "name": "ipython",
    "version": 3
   },
   "file_extension": ".py",
   "mimetype": "text/x-python",
   "name": "python",
   "nbconvert_exporter": "python",
   "pygments_lexer": "ipython3",
   "version": "3.11.4"
  }
 },
 "nbformat": 4,
 "nbformat_minor": 5
}
