{
 "cells": [
  {
   "cell_type": "code",
   "execution_count": 26,
   "id": "53ec19fc",
   "metadata": {},
   "outputs": [],
   "source": [
    "import pandas as pd"
   ]
  },
  {
   "cell_type": "code",
   "execution_count": 3,
   "id": "89a67afc",
   "metadata": {},
   "outputs": [],
   "source": [
    "df = pd.read_csv('job_data.csv')"
   ]
  },
  {
   "cell_type": "code",
   "execution_count": 4,
   "id": "c4665535",
   "metadata": {},
   "outputs": [
    {
     "data": {
      "text/html": [
       "<div>\n",
       "<style scoped>\n",
       "    .dataframe tbody tr th:only-of-type {\n",
       "        vertical-align: middle;\n",
       "    }\n",
       "\n",
       "    .dataframe tbody tr th {\n",
       "        vertical-align: top;\n",
       "    }\n",
       "\n",
       "    .dataframe thead th {\n",
       "        text-align: right;\n",
       "    }\n",
       "</style>\n",
       "<table border=\"1\" class=\"dataframe\">\n",
       "  <thead>\n",
       "    <tr style=\"text-align: right;\">\n",
       "      <th></th>\n",
       "      <th>company</th>\n",
       "      <th>job_title</th>\n",
       "      <th>location</th>\n",
       "      <th>salary</th>\n",
       "      <th>company_size</th>\n",
       "      <th>company_founded</th>\n",
       "      <th>company_type</th>\n",
       "      <th>company_industry</th>\n",
       "      <th>company_sector</th>\n",
       "      <th>company_revenue</th>\n",
       "      <th>job_description</th>\n",
       "    </tr>\n",
       "  </thead>\n",
       "  <tbody>\n",
       "    <tr>\n",
       "      <th>0</th>\n",
       "      <td>Bluefin Resources4.0 ★</td>\n",
       "      <td>EMPO Reporting Analyst</td>\n",
       "      <td>Sydney</td>\n",
       "      <td>$120,000</td>\n",
       "      <td>51 to 200 Employees</td>\n",
       "      <td>--</td>\n",
       "      <td>Company - Private</td>\n",
       "      <td>--</td>\n",
       "      <td>--</td>\n",
       "      <td>Unknown / Non-Applicable</td>\n",
       "      <td>Bluefin Resources are seeking an experienced P...</td>\n",
       "    </tr>\n",
       "    <tr>\n",
       "      <th>1</th>\n",
       "      <td>Macquarie Group Limited4.0 ★</td>\n",
       "      <td>Junior Data Business Analyst | Commodities and...</td>\n",
       "      <td>Sydney</td>\n",
       "      <td>$108,167</td>\n",
       "      <td>10000+ Employees</td>\n",
       "      <td>1969</td>\n",
       "      <td>Company - Public</td>\n",
       "      <td>Investment &amp; Asset Management</td>\n",
       "      <td>Finance</td>\n",
       "      <td>$5 to $10 billion (USD)</td>\n",
       "      <td>We are a dynamic change team who works collabo...</td>\n",
       "    </tr>\n",
       "    <tr>\n",
       "      <th>2</th>\n",
       "      <td>ETM Group Holdings Pty Ltd</td>\n",
       "      <td>Business Analyst</td>\n",
       "      <td>Alexandria</td>\n",
       "      <td>$90,000</td>\n",
       "      <td>NaN</td>\n",
       "      <td>NaN</td>\n",
       "      <td>NaN</td>\n",
       "      <td>NaN</td>\n",
       "      <td>NaN</td>\n",
       "      <td>NaN</td>\n",
       "      <td>ETM Group Holdings is currently searching for ...</td>\n",
       "    </tr>\n",
       "    <tr>\n",
       "      <th>3</th>\n",
       "      <td>Nixil4.0 ★</td>\n",
       "      <td>Junior Data Analyst: Investment Data Managemen...</td>\n",
       "      <td>Sydney</td>\n",
       "      <td>$0</td>\n",
       "      <td>Unknown</td>\n",
       "      <td>--</td>\n",
       "      <td>Company - Private</td>\n",
       "      <td>--</td>\n",
       "      <td>--</td>\n",
       "      <td>Unknown / Non-Applicable</td>\n",
       "      <td>Work options: Hybrid Our client is seeking a d...</td>\n",
       "    </tr>\n",
       "    <tr>\n",
       "      <th>4</th>\n",
       "      <td>TPG Telecom4.0 ★</td>\n",
       "      <td>Data &amp; Reporting Analyst</td>\n",
       "      <td>North Sydney</td>\n",
       "      <td>$78,772</td>\n",
       "      <td>1001 to 5000 Employees</td>\n",
       "      <td>2020</td>\n",
       "      <td>Company - Public</td>\n",
       "      <td>Cable, Internet &amp; Telephone Providers</td>\n",
       "      <td>Telecommunications</td>\n",
       "      <td>$2 to $5 billion (USD)</td>\n",
       "      <td>Exciting time to join a top 100 ASX listed bus...</td>\n",
       "    </tr>\n",
       "  </tbody>\n",
       "</table>\n",
       "</div>"
      ],
      "text/plain": [
       "                        company  \\\n",
       "0        Bluefin Resources4.0 ★   \n",
       "1  Macquarie Group Limited4.0 ★   \n",
       "2    ETM Group Holdings Pty Ltd   \n",
       "3                    Nixil4.0 ★   \n",
       "4              TPG Telecom4.0 ★   \n",
       "\n",
       "                                           job_title      location    salary  \\\n",
       "0                             EMPO Reporting Analyst        Sydney  $120,000   \n",
       "1  Junior Data Business Analyst | Commodities and...        Sydney  $108,167   \n",
       "2                                   Business Analyst    Alexandria   $90,000   \n",
       "3  Junior Data Analyst: Investment Data Managemen...        Sydney        $0   \n",
       "4                           Data & Reporting Analyst  North Sydney   $78,772   \n",
       "\n",
       "             company_size company_founded       company_type  \\\n",
       "0     51 to 200 Employees              --  Company - Private   \n",
       "1        10000+ Employees            1969   Company - Public   \n",
       "2                     NaN             NaN                NaN   \n",
       "3                 Unknown              --  Company - Private   \n",
       "4  1001 to 5000 Employees            2020   Company - Public   \n",
       "\n",
       "                        company_industry      company_sector  \\\n",
       "0                                     --                  --   \n",
       "1          Investment & Asset Management             Finance   \n",
       "2                                    NaN                 NaN   \n",
       "3                                     --                  --   \n",
       "4  Cable, Internet & Telephone Providers  Telecommunications   \n",
       "\n",
       "            company_revenue                                    job_description  \n",
       "0  Unknown / Non-Applicable  Bluefin Resources are seeking an experienced P...  \n",
       "1   $5 to $10 billion (USD)  We are a dynamic change team who works collabo...  \n",
       "2                       NaN  ETM Group Holdings is currently searching for ...  \n",
       "3  Unknown / Non-Applicable  Work options: Hybrid Our client is seeking a d...  \n",
       "4    $2 to $5 billion (USD)  Exciting time to join a top 100 ASX listed bus...  "
      ]
     },
     "execution_count": 4,
     "metadata": {},
     "output_type": "execute_result"
    }
   ],
   "source": [
    "df.head()"
   ]
  },
  {
   "cell_type": "code",
   "execution_count": 64,
   "id": "c8f44cac",
   "metadata": {},
   "outputs": [
    {
     "name": "stdout",
     "output_type": "stream",
     "text": [
      "<class 'pandas.core.frame.DataFrame'>\n",
      "Index: 1053 entries, 0 to 1322\n",
      "Data columns (total 13 columns):\n",
      " #   Column            Non-Null Count  Dtype  \n",
      "---  ------            --------------  -----  \n",
      " 0   job_title         1053 non-null   object \n",
      " 1   location          1053 non-null   object \n",
      " 2   salary            1053 non-null   float64\n",
      " 3   company_size      1033 non-null   object \n",
      " 4   company_founded   1033 non-null   object \n",
      " 5   company_type      1033 non-null   object \n",
      " 6   company_industry  1033 non-null   object \n",
      " 7   company_sector    1033 non-null   object \n",
      " 8   company_revenue   1033 non-null   object \n",
      " 9   job_description   1053 non-null   object \n",
      " 10  salary_hourly     1053 non-null   int64  \n",
      " 11  company_name      1053 non-null   object \n",
      " 12  company_rating    891 non-null    float64\n",
      "dtypes: float64(2), int64(1), object(10)\n",
      "memory usage: 147.5+ KB\n"
     ]
    }
   ],
   "source": [
    "df.info()"
   ]
  },
  {
   "cell_type": "markdown",
   "id": "5fb72141",
   "metadata": {},
   "source": [
    "Checking for duplicates"
   ]
  },
  {
   "cell_type": "code",
   "execution_count": 66,
   "id": "0c0a2afe",
   "metadata": {},
   "outputs": [
    {
     "data": {
      "text/plain": [
       "19"
      ]
     },
     "execution_count": 66,
     "metadata": {},
     "output_type": "execute_result"
    }
   ],
   "source": [
    "df.duplicated().sum()"
   ]
  },
  {
   "cell_type": "code",
   "execution_count": 68,
   "id": "650137d2",
   "metadata": {},
   "outputs": [],
   "source": [
    "df = df.drop_duplicates()"
   ]
  },
  {
   "cell_type": "code",
   "execution_count": 69,
   "id": "8ff55d72",
   "metadata": {},
   "outputs": [
    {
     "data": {
      "text/plain": [
       "0"
      ]
     },
     "execution_count": 69,
     "metadata": {},
     "output_type": "execute_result"
    }
   ],
   "source": [
    "df.duplicated().sum()"
   ]
  },
  {
   "cell_type": "markdown",
   "id": "67dbd823",
   "metadata": {},
   "source": [
    "Company name and rating parsing"
   ]
  },
  {
   "cell_type": "code",
   "execution_count": 43,
   "id": "566a15af",
   "metadata": {},
   "outputs": [
    {
     "data": {
      "text/plain": [
       "0             Bluefin Resources4.0 ★\n",
       "1       Macquarie Group Limited4.0 ★\n",
       "2         ETM Group Holdings Pty Ltd\n",
       "4                   TPG Telecom4.0 ★\n",
       "5                  Sydney Water3.5 ★\n",
       "                    ...             \n",
       "1316                Curio Group4.3 ★\n",
       "1317             Bain & Company4.4 ★\n",
       "1319             edX Boot Camps4.0 ★\n",
       "1321          Monash University4.1 ★\n",
       "1322          Monash University4.1 ★\n",
       "Name: company, Length: 1053, dtype: object"
      ]
     },
     "execution_count": 43,
     "metadata": {},
     "output_type": "execute_result"
    }
   ],
   "source": [
    "df['company']"
   ]
  },
  {
   "cell_type": "code",
   "execution_count": 53,
   "id": "ad799402",
   "metadata": {},
   "outputs": [],
   "source": [
    "pattern = r'(.+?)(\\d+\\.\\d+ \\★)'\n",
    "df[['company_name', 'company_rating']] = df['company'].str.extract(pattern, expand=True)\n",
    "\n",
    "# Handle entries without a rating\n",
    "df['company_name'] = df['company_name'].fillna(df['company'])\n",
    "\n",
    "#Clean up company names\n",
    "df['company_name'] = df['company_name'].str.strip()\n",
    "\n",
    "#Clean up the rating column (remove the star, strip spaces)\n",
    "df['company_rating'] = df['company_rating'].str.replace('★', '').str.strip()\n",
    "df['company_rating'] = df['company_rating'].astype(float)"
   ]
  },
  {
   "cell_type": "code",
   "execution_count": null,
   "id": "f0d786d0",
   "metadata": {},
   "outputs": [],
   "source": [
    "df.drop('company', axis=1, inplace=True)"
   ]
  },
  {
   "cell_type": "markdown",
   "id": "d4b0e4c2",
   "metadata": {},
   "source": [
    "Salary parsing"
   ]
  },
  {
   "cell_type": "code",
   "execution_count": 9,
   "id": "3aead2f8",
   "metadata": {},
   "outputs": [],
   "source": [
    "df.dropna(subset=['salary'], inplace = True)"
   ]
  },
  {
   "cell_type": "code",
   "execution_count": 24,
   "id": "a5bea3e0",
   "metadata": {},
   "outputs": [],
   "source": [
    "def salary_parse(x):\n",
    "    x = x.replace('$', '')\n",
    "    x = x.replace(',', '')\n",
    "    return x\n",
    "salary = df['salary'].apply(salary_parse)"
   ]
  },
  {
   "cell_type": "code",
   "execution_count": 28,
   "id": "26666118",
   "metadata": {},
   "outputs": [],
   "source": [
    "df['salary'] = salary"
   ]
  },
  {
   "cell_type": "code",
   "execution_count": 32,
   "id": "af963a29",
   "metadata": {},
   "outputs": [],
   "source": [
    "df['salary'] = df['salary'].apply(lambda x: float(x))"
   ]
  },
  {
   "cell_type": "code",
   "execution_count": 35,
   "id": "cfc31c75",
   "metadata": {},
   "outputs": [],
   "source": [
    "df = df[df['salary'] != 0]"
   ]
  },
  {
   "cell_type": "code",
   "execution_count": 38,
   "id": "4d22f8d7",
   "metadata": {},
   "outputs": [
    {
     "name": "stderr",
     "output_type": "stream",
     "text": [
      "C:\\Users\\alexs\\AppData\\Local\\Temp\\ipykernel_25768\\3799611637.py:1: SettingWithCopyWarning: \n",
      "A value is trying to be set on a copy of a slice from a DataFrame.\n",
      "Try using .loc[row_indexer,col_indexer] = value instead\n",
      "\n",
      "See the caveats in the documentation: https://pandas.pydata.org/pandas-docs/stable/user_guide/indexing.html#returning-a-view-versus-a-copy\n",
      "  df['salary_hourly'] = df['salary'].apply(lambda x: 1 if x < 5000 else 0)\n"
     ]
    }
   ],
   "source": [
    "df['salary_hourly'] = df['salary'].apply(lambda x: 1 if x < 5000 else 0)"
   ]
  },
  {
   "cell_type": "markdown",
   "id": "d85ab889",
   "metadata": {},
   "source": [
    "Location cleaning"
   ]
  },
  {
   "cell_type": "code",
   "execution_count": 74,
   "id": "ba362694",
   "metadata": {},
   "outputs": [],
   "source": [
    "aus_suburb_df = pd.read_excel('georef-australia-state-suburb.xlsx')"
   ]
  },
  {
   "cell_type": "code",
   "execution_count": 92,
   "id": "4bf6cb16",
   "metadata": {},
   "outputs": [],
   "source": [
    "nsw_suburbs = set(aus_suburb_df[aus_suburb_df['Official Code State'] == \"1\"]['Official Name Suburb'])\n",
    "vic_suburbs = set(aus_suburb_df[aus_suburb_df['Official Code State'] == \"2\"]['Official Name Suburb'])\n",
    "qld_suburbs = set(aus_suburb_df[aus_suburb_df['Official Code State'] == \"3\"]['Official Name Suburb'])\n",
    "sa_suburbs = set(aus_suburb_df[aus_suburb_df['Official Code State'] == \"4\"]['Official Name Suburb'])\n",
    "wa_suburbs = set(aus_suburb_df[aus_suburb_df['Official Code State'] == \"5\"]['Official Name Suburb'])\n",
    "tas_suburbs = set(aus_suburb_df[aus_suburb_df['Official Code State'] == \"6\"]['Official Name Suburb'])\n",
    "nt_suburbs = set(aus_suburb_df[aus_suburb_df['Official Code State'] == \"7\"]['Official Name Suburb'])\n",
    "act_suburbs = set(aus_suburb_df[aus_suburb_df['Official Code State'] == \"8\"]['Official Name Suburb'])"
   ]
  },
  {
   "cell_type": "code",
   "execution_count": 96,
   "id": "b1bbd77d",
   "metadata": {},
   "outputs": [
    {
     "name": "stdout",
     "output_type": "stream",
     "text": [
      "The location is Seven Hills what state is it in?NSW\n",
      "The location is Fairfield what state is it in?NSW\n",
      "The location is Fairfield what state is it in?NSW\n",
      "The location is Australia what state is it in?AUS\n",
      "The location is Fairfield what state is it in?NSW\n",
      "The location is St Leonards what state is it in?NSW\n",
      "The location is St Leonards what state is it in?NSW\n",
      "The location is Australia what state is it in?AUS\n",
      "The location is The Rocks what state is it in?NSW\n",
      "The location is Rosebery what state is it in?NSW\n",
      "The location is Girraween what state is it in?NSW\n",
      "The location is Australia what state is it in?AUS\n",
      "The location is St Leonards what state is it in?NSW\n",
      "The location is Redbank what state is it in?QLD\n",
      "The location is Southport what state is it in?QLD\n",
      "The location is Australia what state is it in?AUS\n",
      "The location is Gold Coast what state is it in?QLD\n",
      "The location is Gold Coast what state is it in?QLD\n",
      "The location is Cairns what state is it in?QLD\n",
      "The location is Parkside what state is it in?SA\n",
      "The location is Ringwood what state is it in?VIC\n",
      "The location is Mulgrave what state is it in?VIC\n",
      "The location is Preston what state is it in?VIC\n",
      "The location is Collingwood what state is it in?VIC\n",
      "The location is Springvale what state is it in?VIC\n",
      "The location is Preston what state is it in?VIC\n",
      "The location is Cremorne what state is it in?VIC\n",
      "The location is Collingwood what state is it in?VIC\n",
      "The location is Cremorne what state is it in?VIC\n",
      "The location is Collingwood what state is it in?VIC\n",
      "The location is Sunshine what state is it in?VIC\n",
      "The location is Mulgrave what state is it in?VIC\n",
      "The location is Burwood what state is it in?VIC\n",
      "The location is Mulgrave what state is it in?VIC\n",
      "The location is Mulgrave what state is it in?VIC\n",
      "The location is Hawthorn what state is it in?VIC\n",
      "The location is Somerton what state is it in?VIC\n",
      "The location is Perth what state is it in?WA\n",
      "The location is Perth what state is it in?WA\n",
      "The location is Perth what state is it in?WA\n",
      "The location is Northbridge what state is it in?WA\n",
      "The location is Guildford what state is it in?WA\n",
      "The location is Perth what state is it in?WA\n",
      "The location is Perth what state is it in?WA\n",
      "The location is Perth what state is it in?WA\n",
      "The location is Perth what state is it in?WA\n",
      "The location is Perth what state is it in?WA\n",
      "The location is Perth what state is it in?WA\n",
      "The location is Perth what state is it in?WA\n",
      "The location is Perth what state is it in?WA\n",
      "The location is Perth what state is it in?WA\n",
      "The location is Kwinana what state is it in?\n",
      "The location is Perth what state is it in?WA\n",
      "The location is Perth what state is it in?WA\n",
      "The location is Perth what state is it in?WA\n",
      "The location is Perth what state is it in?WA\n",
      "The location is Perth what state is it in?WA\n",
      "The location is Northbridge what state is it in?WA\n",
      "The location is Perth what state is it in?WA\n",
      "The location is Perth what state is it in?WA\n",
      "The location is Guildford what state is it in?WA\n",
      "The location is Perth what state is it in?WA\n",
      "The location is Perth what state is it in?WA\n",
      "The location is Perth what state is it in?WA\n",
      "The location is Perth what state is it in?WA\n",
      "The location is Perth what state is it in?WA\n",
      "The location is Perth what state is it in?WA\n",
      "The location is Perth what state is it in?WA\n",
      "The location is Perth what state is it in?WA\n",
      "The location is Perth what state is it in?WA\n",
      "The location is Perth what state is it in?WA\n",
      "The location is Perth what state is it in?WA\n",
      "The location is Australia what state is it in?AUS\n",
      "The location is Perth what state is it in?WA\n",
      "The location is Perth what state is it in?WA\n",
      "The location is Perth what state is it in?WA\n",
      "The location is Perth what state is it in?WA\n",
      "The location is Perth what state is it in?WA\n",
      "The location is Mulgrave what state is it in?VIC\n",
      "The location is Fairfield what state is it in?NSW\n",
      "The location is Australia what state is it in?AUS\n",
      "The location is Mulgrave what state is it in?VIC\n",
      "The location is Perth what state is it in?WA\n",
      "The location is Australia what state is it in?AUS\n",
      "The location is Box Hill what state is it in?VIC\n",
      "The location is Clayton North what state is it in?VIC\n",
      "The location is Burwood what state is it in?VIC\n",
      "The location is Perth what state is it in?WA\n",
      "The location is Perth what state is it in?WA\n",
      "The location is Clayton North what state is it in?VIC\n",
      "The location is Clayton North what state is it in?VIC\n"
     ]
    }
   ],
   "source": [
    "state = []\n",
    "for location in df['location']:\n",
    "    if location == 'New South Wales' or location in nsw_suburbs:\n",
    "        state.append('NSW')\n",
    "    elif location == 'Victoria' or location in vic_suburbs:\n",
    "        state.append('VIC')\n",
    "    elif location == 'Queensland' or location in qld_suburbs or location  == 'Brisbane':\n",
    "        state.append('QLD')\n",
    "    elif location == 'South Australia' or location in sa_suburbs or location == 'Adelaide':\n",
    "        state.append('SA')\n",
    "    elif location == 'Western Australia' or location in wa_suburbs:\n",
    "        state.append('WA')\n",
    "    elif location == 'Tasmania' or location in tas_suburbs:\n",
    "        state.append('TAS')\n",
    "    elif location == 'Northern Territory' or location in nt_suburbs or location == 'Darwin':\n",
    "        state.append('NT')\n",
    "    elif location == 'Australian Capital Territory' or location in act_suburbs or location == 'Canberra':\n",
    "        state.append('ACT')\n",
    "    elif location == 'Remote':\n",
    "        state.append('remote')\n",
    "    else:\n",
    "        state.append(input(f'The location is {location} what state is it in?' ))"
   ]
  },
  {
   "cell_type": "code",
   "execution_count": 98,
   "id": "81c4a63c",
   "metadata": {},
   "outputs": [],
   "source": [
    "df['state'] = state"
   ]
  },
  {
   "cell_type": "code",
   "execution_count": 110,
   "id": "4f6a85a8",
   "metadata": {},
   "outputs": [],
   "source": [
    "df.loc[df['state'] == '', 'state'] = 'WA'"
   ]
  },
  {
   "cell_type": "code",
   "execution_count": 116,
   "id": "bd23227f",
   "metadata": {},
   "outputs": [],
   "source": [
    "df.loc[df['company_name'] == 'Map Talent', 'state'] = 'NSW'"
   ]
  },
  {
   "cell_type": "markdown",
   "id": "9d1e52d6",
   "metadata": {},
   "source": [
    "Parsing of job description"
   ]
  },
  {
   "cell_type": "code",
   "execution_count": null,
   "id": "3243dac5",
   "metadata": {},
   "outputs": [],
   "source": []
  }
 ],
 "metadata": {
  "kernelspec": {
   "display_name": "Python 3 (ipykernel)",
   "language": "python",
   "name": "python3"
  },
  "language_info": {
   "codemirror_mode": {
    "name": "ipython",
    "version": 3
   },
   "file_extension": ".py",
   "mimetype": "text/x-python",
   "name": "python",
   "nbconvert_exporter": "python",
   "pygments_lexer": "ipython3",
   "version": "3.11.4"
  }
 },
 "nbformat": 4,
 "nbformat_minor": 5
}
